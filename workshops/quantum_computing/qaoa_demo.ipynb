{
 "cells": [
  {
   "cell_type": "markdown",
   "metadata": {},
   "source": [
    "# QAOA Demo\n",
    "\n",
    "## Installation commands for packages outside the standard library:\n",
    "        pip install qiskit\n",
    "        pip install qiskit-aer"
   ]
  },
  {
   "cell_type": "markdown",
   "metadata": {},
   "source": [
    "Importing packages..."
   ]
  },
  {
   "cell_type": "code",
   "execution_count": null,
   "metadata": {},
   "outputs": [],
   "source": [
    "from qiskit import QuantumCircuit\n",
    "from qiskit_aer import AerSimulator\n",
    "from qiskit.visualization import plot_histogram\n",
    "import networkx as nx\n",
    "import numpy as np\n",
    "from scipy.optimize import minimize\n",
    "from matplotlib import pyplot as plt\n",
    "from helper_functions import *\n",
    "np.random.seed(7)"
   ]
  },
  {
   "cell_type": "markdown",
   "metadata": {},
   "source": [
    "In this demo, we will implement the quantum approximate optimization algorithm (QAOA) for solving Max-Cut problems. To begin, we will set up our graph and briefly discuss Max-Cut."
   ]
  },
  {
   "cell_type": "code",
   "execution_count": null,
   "metadata": {},
   "outputs": [],
   "source": [
    "edges = [(0, 1), (1, 2), (2, 3), (3, 0)]\n",
    "weights = [1, 2, 1, 3]\n",
    "# edges = [(0, 1), (1, 2), (2, 3), (3, 1), (3, 0)]\n",
    "# weights = [1, 2, 8, 22, 11]\n",
    "\n",
    "graph = nx.Graph()\n",
    "for edge, weight in zip(edges, weights):\n",
    "    graph.add_edge(edge[0], edge[1], weight=weight)"
   ]
  },
  {
   "cell_type": "markdown",
   "metadata": {},
   "source": [
    "We can now make a plot to visualize our graph."
   ]
  },
  {
   "cell_type": "code",
   "execution_count": null,
   "metadata": {},
   "outputs": [],
   "source": [
    "pos = nx.shell_layout(graph)\n",
    "nx.draw(graph, pos=pos, node_size=1000, with_labels=True, font_color='white', font_size=20)\n",
    "graph\n",
    "edge_labels = nx.get_edge_attributes(graph, \"weight\")\n",
    "nx.draw_networkx_edge_labels(graph, pos, edge_labels=edge_labels, font_size=16)\n",
    "plt.show()"
   ]
  },
  {
   "cell_type": "markdown",
   "metadata": {},
   "source": [
    "Using a function from helper_functions.py, we can calculate the exact maximum cut for our graph, which corresponds to a bipartition on the graph nodes that maximizes the total weight of the edges between nodes in separate partitions."
   ]
  },
  {
   "cell_type": "code",
   "execution_count": null,
   "metadata": {},
   "outputs": [],
   "source": [
    "partitioning, cut_value = naive_exact_maxcut(graph)\n",
    "print('max-cut partitioning:', partitioning, '\\nmaximum cut value:', cut_value)"
   ]
  },
  {
   "cell_type": "markdown",
   "metadata": {},
   "source": [
    "Now, we will construct a QAOA circuit to solve the Max-Cut problem. To begin, we will define two subcircuits corresponding to our cost and mixer layers."
   ]
  },
  {
   "cell_type": "code",
   "execution_count": null,
   "metadata": {},
   "outputs": [],
   "source": [
    "n_qubits = len(graph.nodes())\n",
    "\n",
    "def add_mixer_layer(circ, beta):\n",
    "    for i in range(n_qubits):\n",
    "        circ.rx(2*beta, i)\n",
    "\n",
    "def add_cost_layer(circ, alpha):\n",
    "    weights = nx.get_edge_attributes(graph, \"weight\")\n",
    "    for edge in list(graph.edges()):\n",
    "        control = edge[0]\n",
    "        target = edge[1]\n",
    "        circ.cx(control, target)\n",
    "        circ.rz(alpha*weights[edge], target)\n",
    "        circ.cx(control, target)"
   ]
  },
  {
   "cell_type": "markdown",
   "metadata": {},
   "source": [
    "We now define a function to construct and return our QAOA circuit by repeatedly calling the cost and mixer subcircuit functions for each layer. Note that this construct circuit function admits parameters $\\alpha_j$ and $\\beta_j$ for each layer, which will be optimized variationally in the next step.\n",
    "\n",
    "Before adding cost or mixer layers, we place a layer of hadamard gates. This serves to initialize the state into the equal superposition state, where every possible bitstring/cut has an equal probability of being measured."
   ]
  },
  {
   "cell_type": "code",
   "execution_count": null,
   "metadata": {},
   "outputs": [],
   "source": [
    "def construct_circuit(alphas, betas):\n",
    "    n_layers = len(alphas)\n",
    "\n",
    "    circ = QuantumCircuit(n_qubits)\n",
    "\n",
    "    for i in range(n_qubits):\n",
    "        circ.h(i)\n",
    "\n",
    "    for i in range(n_layers):\n",
    "        circ.barrier()\n",
    "        add_cost_layer(circ, alphas[i])\n",
    "        circ.barrier()\n",
    "        add_mixer_layer(circ, betas[i])\n",
    "\n",
    "    circ.measure_all()\n",
    "    return circ"
   ]
  },
  {
   "cell_type": "markdown",
   "metadata": {},
   "source": [
    "Let's build and draw the circuit now using only a sinlge layer to get a sense of the structure we're working with."
   ]
  },
  {
   "cell_type": "code",
   "execution_count": null,
   "metadata": {},
   "outputs": [],
   "source": [
    "circ = construct_circuit([1, 1], [1, 1])\n",
    "circ.draw('mpl')"
   ]
  },
  {
   "cell_type": "markdown",
   "metadata": {},
   "source": [
    "Now we have to set up our optimization loop. We start by building a function which, given a bitstring $x$ corresponding to a bipartition (a cut) on our graph, gives the value of that cut."
   ]
  },
  {
   "cell_type": "code",
   "execution_count": null,
   "metadata": {},
   "outputs": [],
   "source": [
    "def get_cut_value(x):\n",
    "    A = nx.adjacency_matrix(graph).toarray()\n",
    "    mu = -np.ones(n_qubits)@A\n",
    "    sigma = A + np.diag(mu)\n",
    "    x_arr = np.array([float(entry) for entry in x])\n",
    "    return x_arr@sigma@x_arr"
   ]
  },
  {
   "cell_type": "markdown",
   "metadata": {},
   "source": [
    "Next, we introduce a subroutine that will execute our QAOA circuit for a given set of $\\alpha$ and $\\beta$ parameters with a predetermined number of shots and give the average cut value across all the measured bitstrings (recall that each bitstring corresponds to a cut on our graph). This average cut value is what we will use as the objective function to be passed to the classical optimizer in the next step. We will also set up our simulator backend at this step."
   ]
  },
  {
   "cell_type": "code",
   "execution_count": null,
   "metadata": {},
   "outputs": [],
   "source": [
    "backend = AerSimulator(method='statevector', device='CPU')\n",
    "\n",
    "def estimate_circuit_expectation(params, shots=1024):\n",
    "    n_layers = len(params)//2\n",
    "    alphas = params[:n_layers]\n",
    "    betas = params[n_layers:]\n",
    "\n",
    "    circ = construct_circuit(alphas, betas)\n",
    "    counts = backend.run(circ, shots=shots).result().get_counts()\n",
    "\n",
    "    expectation = 0\n",
    "    for bitstring in counts.keys():\n",
    "        cut_value = get_cut_value(bitstring)\n",
    "        expectation += cut_value*counts[bitstring]\n",
    "    return expectation/shots"
   ]
  },
  {
   "cell_type": "markdown",
   "metadata": {},
   "source": [
    "The only thing left to do now is to choose an optimizer and find $\\alpha$ and $\\beta$ parameters which maximize the expected cut value output from our circuit. "
   ]
  },
  {
   "cell_type": "code",
   "execution_count": null,
   "metadata": {},
   "outputs": [],
   "source": [
    "n_layers = 6\n",
    "initial_params = np.random.uniform(-.001, .001, 2*n_layers)\n",
    "opt_res = minimize(estimate_circuit_expectation, initial_params, method='COBYLA')\n",
    "opt_res"
   ]
  },
  {
   "cell_type": "markdown",
   "metadata": {},
   "source": [
    "Once this optimization step is finished, we simply run our circuit one final time using the optimized parameters, and the highest value measured cut is taken as the output of our QAOA routine.\n",
    "\n",
    "For small graph sizes, we can check this QAOA solution against the exact solution found by naively testing all possible cuts."
   ]
  },
  {
   "cell_type": "code",
   "execution_count": null,
   "metadata": {},
   "outputs": [],
   "source": [
    "optimal_params = opt_res.x\n",
    "alphas = optimal_params[:n_layers]\n",
    "betas = optimal_params[n_layers:]\n",
    "\n",
    "circ = construct_circuit(alphas, betas)\n",
    "counts = backend.run(circ, shots=1024).result().get_counts()\n",
    "\n",
    "mode_counts = max(counts.values())\n",
    "best_cut_val = -np.inf\n",
    "for bitstring in counts.keys():\n",
    "    current_cut_val = -get_cut_value(bitstring)\n",
    "    if current_cut_val > best_cut_val:\n",
    "        best_cut_val = current_cut_val\n",
    "        best_cut = bitstring\n",
    "    if counts[bitstring] == mode_counts:\n",
    "        mode_cut_val = current_cut_val\n",
    "        mode = bitstring\n",
    "qaoa_sol = best_cut\n",
    "\n",
    "\n",
    "true_sol = naive_exact_maxcut(graph)[0]\n",
    "\n",
    "print('true solution:', true_sol)\n",
    "print('qaoa solution:', qaoa_sol)\n",
    "print('qaoa mode:', mode)\n",
    "print('\\ntrue obj fun val:', -get_cut_value(true_sol))\n",
    "print('qaoa obj fun val:', best_cut_val)\n",
    "print('qaoa mode obj fun val:', mode_cut_val)"
   ]
  },
  {
   "cell_type": "markdown",
   "metadata": {},
   "source": [
    "We can also plot the measurement distribution of our final run using the optimized parameters to see estimate the shape of the quantum state our QAOA circuit is preparing."
   ]
  },
  {
   "cell_type": "code",
   "execution_count": null,
   "metadata": {},
   "outputs": [],
   "source": [
    "plot_histogram(counts)"
   ]
  }
 ],
 "metadata": {
  "kernelspec": {
   "display_name": "base",
   "language": "python",
   "name": "python3"
  },
  "language_info": {
   "codemirror_mode": {
    "name": "ipython",
    "version": 3
   },
   "file_extension": ".py",
   "mimetype": "text/x-python",
   "name": "python",
   "nbconvert_exporter": "python",
   "pygments_lexer": "ipython3",
   "version": "3.9.19"
  }
 },
 "nbformat": 4,
 "nbformat_minor": 2
}
