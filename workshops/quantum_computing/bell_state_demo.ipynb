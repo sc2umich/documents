{
 "cells": [
  {
   "cell_type": "markdown",
   "metadata": {},
   "source": [
    "# Preparing the Bell State Demo\n",
    "\n",
    "## Installation commands for packages outside the standard library:\n",
    "        pip install qiskit\n",
    "        pip install qiskit-aer"
   ]
  },
  {
   "cell_type": "markdown",
   "metadata": {},
   "source": [
    "Importing packages..."
   ]
  },
  {
   "cell_type": "code",
   "execution_count": null,
   "metadata": {},
   "outputs": [],
   "source": [
    "from qiskit import QuantumCircuit\n",
    "from qiskit_aer import AerSimulator\n",
    "from qiskit.visualization import plot_histogram\n",
    "import numpy as np\n",
    "from matplotlib import pyplot as plt"
   ]
  },
  {
   "cell_type": "markdown",
   "metadata": {},
   "source": [
    "In this demo, we will construct a quantum circuit to prepare the bell state $\\frac{1}{\\sqrt{2}} \\vert 00 \\rangle + \\frac{1}{\\sqrt{2}} \\vert 11 \\rangle$."
   ]
  },
  {
   "cell_type": "code",
   "execution_count": null,
   "metadata": {},
   "outputs": [],
   "source": [
    "n_qubits = 2\n",
    "circ = QuantumCircuit(n_qubits)\n",
    "circ.h(0)\n",
    "circ.cx(0, 1)\n",
    "circ.measure_all()"
   ]
  },
  {
   "cell_type": "markdown",
   "metadata": {},
   "source": [
    "We can call on QuantumCircuit's draw method to get a visualization of our circuit."
   ]
  },
  {
   "cell_type": "code",
   "execution_count": null,
   "metadata": {},
   "outputs": [],
   "source": [
    "circ.draw('mpl')"
   ]
  },
  {
   "cell_type": "markdown",
   "metadata": {},
   "source": [
    "In order to simulate runs on this circuit, we must declare a backend, and specify the device it will run on. In this case, we will use the simplest option, which is the statevector simulator, and we will run on our CPU. \n",
    "- In some cases, compute time can be accelerated by using other simulator backends that leverage tensor networks.\n",
    "- If we have access to a GPU, we can use it to speed up our calculations.\n",
    "- Certain backends will also support more realistic simulations with noise.\n",
    "- This same code can be used to execute our circuit on real quantum computers through the cloud, with the additional requirements of 1) connecting to an IBM account, and 2) adding a call to a transpile function that will compile our circuit to be able to run on the hardware we specify."
   ]
  },
  {
   "cell_type": "code",
   "execution_count": null,
   "metadata": {},
   "outputs": [],
   "source": [
    "backend = AerSimulator(method='statevector', device='CPU')\n",
    "counts = backend.run(circ, shots=100).result().get_counts()\n",
    "counts"
   ]
  },
  {
   "cell_type": "markdown",
   "metadata": {},
   "source": [
    "We can plot the results from running and measuring our circuit 100 times. As expected, we appear to measure both possible bitstrings with equal probability."
   ]
  },
  {
   "cell_type": "code",
   "execution_count": null,
   "metadata": {},
   "outputs": [],
   "source": [
    "plot_histogram(counts)"
   ]
  }
 ],
 "metadata": {
  "kernelspec": {
   "display_name": "base",
   "language": "python",
   "name": "python3"
  },
  "language_info": {
   "codemirror_mode": {
    "name": "ipython",
    "version": 3
   },
   "file_extension": ".py",
   "mimetype": "text/x-python",
   "name": "python",
   "nbconvert_exporter": "python",
   "pygments_lexer": "ipython3",
   "version": "3.9.19"
  }
 },
 "nbformat": 4,
 "nbformat_minor": 2
}
